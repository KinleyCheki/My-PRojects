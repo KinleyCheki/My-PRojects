{
 "cells": [
  {
   "cell_type": "code",
   "execution_count": 1,
   "id": "bd1b10db",
   "metadata": {},
   "outputs": [],
   "source": [
    "#!pip install jupyter_dash\n",
    "#!pip install dash_bootstrap_components"
   ]
  },
  {
   "cell_type": "code",
   "execution_count": 2,
   "id": "5d3085be",
   "metadata": {},
   "outputs": [],
   "source": [
    "from jupyter_dash import JupyterDash\n",
    "import dash\n",
    "import pandas as pd\n",
    "import numpy as np\n",
    "from dash import Dash, dcc, html, Input, Output,State\n",
    "from dash.exceptions import PreventUpdate\n",
    "import plotly.express as px\n",
    "import dash_bootstrap_components as dbc"
   ]
  },
  {
   "cell_type": "code",
   "execution_count": 3,
   "id": "0e085cb3",
   "metadata": {},
   "outputs": [],
   "source": [
    "data=pd.read_csv(\"kaggle_survey_2021_responses.csv\",low_memory=False)"
   ]
  },
  {
   "cell_type": "code",
   "execution_count": 4,
   "id": "aa1e1805",
   "metadata": {},
   "outputs": [],
   "source": [
    "data.drop([0],axis=0,inplace=True)"
   ]
  },
  {
   "cell_type": "code",
   "execution_count": 5,
   "id": "9eac30fb",
   "metadata": {},
   "outputs": [
    {
     "data": {
      "text/plain": [
       "24941"
      ]
     },
     "execution_count": 5,
     "metadata": {},
     "output_type": "execute_result"
    }
   ],
   "source": [
    "data1=data.set_index(\"Q6\")\n",
    "data2=data1.drop(\"I have never written code\",axis=0)\n",
    "dataWithProgramming=data2.reset_index()\n",
    "len(dataWithProgramming)"
   ]
  },
  {
   "cell_type": "markdown",
   "id": "73d88c9e",
   "metadata": {},
   "source": [
    "# 1 Language used(Q7&Q8)"
   ]
  },
  {
   "cell_type": "code",
   "execution_count": 6,
   "id": "4575f8c8",
   "metadata": {},
   "outputs": [
    {
     "data": {
      "text/plain": [
       "Q7_Part_9\n",
       "Swift        242\n",
       "dtype: int64"
      ]
     },
     "execution_count": 6,
     "metadata": {},
     "output_type": "execute_result"
    }
   ],
   "source": [
    "Q7=dataWithProgramming[[\"Q7_Part_1\",\"Q7_Part_2\",\"Q7_Part_3\",\"Q7_Part_4\",\"Q7_Part_5\",\"Q7_Part_6\",\"Q7_Part_7\",\"Q7_Part_8\",\"Q7_Part_9\",\"Q7_Part_10\",\"Q7_Part_11\",\"Q7_Part_12\",\"Q7_OTHER\"]]\n",
    "Q7part1=dataWithProgramming[[\"Q7_Part_9\"]].value_counts()\n",
    "Q7part1"
   ]
  },
  {
   "cell_type": "markdown",
   "id": "beb5e77b",
   "metadata": {},
   "source": [
    "# defining function"
   ]
  },
  {
   "cell_type": "code",
   "execution_count": 7,
   "id": "ddbf8721",
   "metadata": {},
   "outputs": [],
   "source": [
    "#question7\n",
    "def language_df(dataWithProgramming):\n",
    "    l=pd.DataFrame({\"Language\":[\"Python\",\"SQL\",\"C++\",\"R\",\"Java\"],\"Counts\":[21860,10756,5535,5334,4769]})\n",
    "    return l\n",
    "\n",
    "#Question 8\n",
    "def Q_8(dataWithProgramming):\n",
    "    Q8=dataWithProgramming.groupby([\"Q8\"]).size().to_frame().reset_index()\n",
    "    q8=Q8.rename(columns={\"Q8\":\"First Language for Data Scientist to Learn\",0:\"Count\"})\n",
    "    q8=q8.sort_values(\"Count\")\n",
    "    q8=q8.tail(5)\n",
    "    return q8"
   ]
  },
  {
   "cell_type": "code",
   "execution_count": 8,
   "id": "9a2dbedb",
   "metadata": {},
   "outputs": [
    {
     "data": {
      "text/html": [
       "<div>\n",
       "<style scoped>\n",
       "    .dataframe tbody tr th:only-of-type {\n",
       "        vertical-align: middle;\n",
       "    }\n",
       "\n",
       "    .dataframe tbody tr th {\n",
       "        vertical-align: top;\n",
       "    }\n",
       "\n",
       "    .dataframe thead th {\n",
       "        text-align: right;\n",
       "    }\n",
       "</style>\n",
       "<table border=\"1\" class=\"dataframe\">\n",
       "  <thead>\n",
       "    <tr style=\"text-align: right;\">\n",
       "      <th></th>\n",
       "      <th>First Language for Data Scientist to Learn</th>\n",
       "      <th>Count</th>\n",
       "    </tr>\n",
       "  </thead>\n",
       "  <tbody>\n",
       "    <tr>\n",
       "      <th>2</th>\n",
       "      <td>C++</td>\n",
       "      <td>437</td>\n",
       "    </tr>\n",
       "    <tr>\n",
       "      <th>1</th>\n",
       "      <td>C</td>\n",
       "      <td>440</td>\n",
       "    </tr>\n",
       "    <tr>\n",
       "      <th>11</th>\n",
       "      <td>SQL</td>\n",
       "      <td>1338</td>\n",
       "    </tr>\n",
       "    <tr>\n",
       "      <th>10</th>\n",
       "      <td>R</td>\n",
       "      <td>1445</td>\n",
       "    </tr>\n",
       "    <tr>\n",
       "      <th>9</th>\n",
       "      <td>Python</td>\n",
       "      <td>20213</td>\n",
       "    </tr>\n",
       "  </tbody>\n",
       "</table>\n",
       "</div>"
      ],
      "text/plain": [
       "   First Language for Data Scientist to Learn  Count\n",
       "2                                         C++    437\n",
       "1                                           C    440\n",
       "11                                        SQL   1338\n",
       "10                                          R   1445\n",
       "9                                      Python  20213"
      ]
     },
     "execution_count": 8,
     "metadata": {},
     "output_type": "execute_result"
    }
   ],
   "source": [
    "Q8=dataWithProgramming.groupby([\"Q8\"]).size().to_frame().reset_index()\n",
    "q8=Q8.rename(columns={\"Q8\":\"First Language for Data Scientist to Learn\",0:\"Count\"})\n",
    "q8=q8.sort_values(\"Count\")\n",
    "q8=q8.tail(5)\n",
    "q8"
   ]
  },
  {
   "cell_type": "code",
   "execution_count": 9,
   "id": "f2801242",
   "metadata": {},
   "outputs": [],
   "source": [
    "l=language_df(dataWithProgramming)\n",
    "q8=Q_8(dataWithProgramming)"
   ]
  },
  {
   "cell_type": "markdown",
   "id": "41c5b271",
   "metadata": {},
   "source": [
    "# Graph"
   ]
  },
  {
   "cell_type": "code",
   "execution_count": 10,
   "id": "32fd514b",
   "metadata": {},
   "outputs": [],
   "source": [
    "#question 7\n",
    "def g1(l):\n",
    "    pie1=px.bar(l,x=\"Language\",y=\"Counts\", title=\"Top Five Programming Languages\",color=\"Language\")\n",
    "    return pie1\n",
    "#question 8\n",
    "def graph8(q8):\n",
    "    pie2=px.scatter(q8,x=\"First Language for Data Scientist to Learn\",y=\"Count\",size=\"Count\",color=\"Count\",title=\"Top 5 Programming Languages for Data Scientist to learn first\")\n",
    "    return pie2"
   ]
  },
  {
   "cell_type": "code",
   "execution_count": 11,
   "id": "650f18ea",
   "metadata": {},
   "outputs": [],
   "source": [
    "pie1=g1(l)\n",
    "pie2=graph8(q8)"
   ]
  },
  {
   "cell_type": "markdown",
   "id": "e245dc64",
   "metadata": {},
   "source": [
    "#  2 Integrated Development Environments(Q9&Q10,Q14)"
   ]
  },
  {
   "cell_type": "code",
   "execution_count": 12,
   "id": "6e94eecb",
   "metadata": {},
   "outputs": [
    {
     "data": {
      "text/plain": [
       "Q9_OTHER\n",
       "Other       1491\n",
       "dtype: int64"
      ]
     },
     "execution_count": 12,
     "metadata": {},
     "output_type": "execute_result"
    }
   ],
   "source": [
    "q9=dataWithProgramming[[\"Q9_Part_1\",\"Q9_Part_2\",\"Q9_Part_3\",\"Q9_Part_4\",\"Q9_Part_5\",\"Q9_Part_6\",\"Q9_Part_7\",\"Q9_Part_8\",\"Q9_Part_9\",\"Q9_Part_10\",\"Q9_Part_11\",\"Q9_Part_12\",\"Q9_OTHER\"]]\n",
    "Q9part1=dataWithProgramming[[\"Q9_OTHER\"]].value_counts()\n",
    "Q9part1"
   ]
  },
  {
   "cell_type": "markdown",
   "id": "acf33d77",
   "metadata": {},
   "source": [
    "# defining function"
   ]
  },
  {
   "cell_type": "code",
   "execution_count": 13,
   "id": "a24e4120",
   "metadata": {},
   "outputs": [],
   "source": [
    "#question 9\n",
    "def i_d_e(dataWithProgramming):\n",
    "    ide_data=pd.DataFrame({\"Programing Language Platform\":[\"Jupyter Notebook\",\"Visual Studio Code\",\"PyCharm\",\"Jupyter\",\"RStudio\"],\"Counts\":[16233,10040,7468,5488,4771]})\n",
    "    return ide_data\n",
    "\n",
    "#question 14\n",
    "def visual_lib(dataWithProgramming):\n",
    "    \n",
    "    vlib=pd.DataFrame({\"Visualization Library\":[\"Matplotlib\",\"Seaborn\",\"Plotly\",\"ggplot2\",\"Shiny\"],\"Counts\":[17595,12586,5778,5100,1322]})\n",
    "\n",
    "\n",
    "    return vlib"
   ]
  },
  {
   "cell_type": "code",
   "execution_count": 14,
   "id": "1782be48",
   "metadata": {},
   "outputs": [],
   "source": [
    "ide_data=i_d_e(dataWithProgramming)\n",
    "vlib=visual_lib(dataWithProgramming)"
   ]
  },
  {
   "cell_type": "markdown",
   "id": "99642eea",
   "metadata": {},
   "source": [
    "# graph"
   ]
  },
  {
   "cell_type": "code",
   "execution_count": 15,
   "id": "de273eb2",
   "metadata": {},
   "outputs": [],
   "source": [
    "#questio 9\n",
    "def pg1(ide_data):\n",
    "    pie=px.bar(ide_data,x=\"Programing Language Platform\",y=\"Counts\", title=\"Top Five Programming Language Platform\",color='Counts')\n",
    "    return pie\n",
    "#question 14\n",
    "def visual_gra(vlib):\n",
    "    v_fig= px.bar(vlib, x='Visualization Library', y='Counts', color='Visualization Library', title='Top Five Visualization Library')\n",
    "    return v_fig"
   ]
  },
  {
   "cell_type": "code",
   "execution_count": 16,
   "id": "082873bb",
   "metadata": {},
   "outputs": [],
   "source": [
    "pie=pg1(ide_data)\n",
    "v_fig=visual_gra(vlib)"
   ]
  },
  {
   "cell_type": "markdown",
   "id": "cd3a8089",
   "metadata": {},
   "source": [
    "# 3 Machine Learning (Q15,Q16)"
   ]
  },
  {
   "cell_type": "code",
   "execution_count": 17,
   "id": "e44742a3",
   "metadata": {},
   "outputs": [
    {
     "data": {
      "text/plain": [
       "21052"
      ]
     },
     "execution_count": 17,
     "metadata": {},
     "output_type": "execute_result"
    }
   ],
   "source": [
    "data1=dataWithProgramming.set_index(\"Q15\")\n",
    "data2=data1.drop(\"I do not use machine learning methods\",axis=0)\n",
    "dataWithml=data2.reset_index()\n",
    "len(dataWithml)"
   ]
  },
  {
   "cell_type": "code",
   "execution_count": 18,
   "id": "ae36c571",
   "metadata": {},
   "outputs": [],
   "source": [
    "mode=dataWithml[[\"Q20\"]].mode()\n",
    "m=mode.iloc[0,0]\n",
    "dataWithml[\"Q20\"].replace(np.nan,m,inplace=True)\n",
    "md=dataWithml[[\"Q22\"]].mode()\n",
    "m=md.iloc[0,0]\n",
    "dataWithml[\"Q22\"].replace(np.nan,m,inplace=True)\n",
    "m=dataWithml[[\"Q23\"]].mode()\n",
    "mode=m.iloc[0,0]\n",
    "dataWithml[\"Q23\"].replace(np.nan,mode,inplace=True)\n",
    "m=dataWithml[[\"Q41\"]].mode()\n",
    "mode=m.iloc[0,0]\n",
    "dataWithml[\"Q41\"].replace(np.nan,mode,inplace=True)"
   ]
  },
  {
   "cell_type": "markdown",
   "id": "30a02b61",
   "metadata": {},
   "source": [
    "# defining function"
   ]
  },
  {
   "cell_type": "code",
   "execution_count": 19,
   "id": "cb09c37b",
   "metadata": {},
   "outputs": [],
   "source": [
    "#question 15\n",
    "def q15(dataWithml):\n",
    "    q15=dataWithml[[\"Q15\"]].value_counts().to_frame().reset_index()\n",
    "    Q15=q15.rename(columns={\"Q15\":\"Years used\",0:\"Count\"})\n",
    "    return Q15\n",
    "\n",
    "#question 16\n",
    "def machine_l(dataWithml):\n",
    "    tt={\"Machine Learning Language\":[\"Scikit-learn\",\"TensorFlow\",\"Keras\",\"PyTorch\",\"Fast.ai\",\"MXNet\",\"Xgboost\",\"LightGBM\",\"CatBoost\",\"Prophet\",\"H2O 3\",\"Caret\",\"Tidymodels\",\"JAX\",\"PyTorch Lightning\",\"Huggingface\",\"None\",\"Others\"],\"Counts\":[13987,9371,7975,6088,824,252,5974,2635,1512,800,488,1009,678,190,1060,1122,1916,483]}\n",
    "    bb=pd.DataFrame(tt).sort_values(\"Counts\")\n",
    "    ml_data=bb.tail(5).reset_index()\n",
    "    ml_data.drop(columns={\"index\"},axis=1,inplace=True)\n",
    "    return ml_data"
   ]
  },
  {
   "cell_type": "code",
   "execution_count": 20,
   "id": "7929e54d",
   "metadata": {},
   "outputs": [],
   "source": [
    "Q15=q15(dataWithml)\n",
    "ml_data=machine_l(dataWithml)"
   ]
  },
  {
   "cell_type": "markdown",
   "id": "8eb16a7d",
   "metadata": {},
   "source": [
    "# graph"
   ]
  },
  {
   "cell_type": "code",
   "execution_count": 21,
   "id": "b27cc44d",
   "metadata": {},
   "outputs": [],
   "source": [
    "#question15\n",
    "def g15(Q15):\n",
    "    q15pie=px.line(Q15,x=\"Years used\",y=\"Count\",text=\"Count\",title=\"Machine learning used over the years\")\n",
    "    return q15pie\n",
    "#question15\n",
    "def machine_gra(ml_data):\n",
    "    m_fig = px.scatter(ml_data, y=\"Counts\", x=\"Machine Learning Language\", color=\"Counts\", size=\"Counts\",title=\"Top Five Machine Learning Languages\")\n",
    "    return m_fig"
   ]
  },
  {
   "cell_type": "markdown",
   "id": "e0b12cc5",
   "metadata": {},
   "source": [
    "# 4 Current employer/contract(Q20,Q22,Q23)"
   ]
  },
  {
   "cell_type": "markdown",
   "id": "9b222cca",
   "metadata": {},
   "source": [
    "# defining function"
   ]
  },
  {
   "cell_type": "code",
   "execution_count": 22,
   "id": "bbc13d59",
   "metadata": {},
   "outputs": [],
   "source": [
    "#question 20\n",
    "def q20(dataWithml):\n",
    "    q20=dataWithml[[\"Q20\"]].value_counts().to_frame().reset_index()\n",
    "    Q20=q20.rename(columns={\"Q20\":\"Employer\",0:\"Count\"})\n",
    "    \n",
    "    return Q20\n",
    "def tree(dataWithml):\n",
    "    t=dataWithml[[\"Q21\",\"Q22\"]].value_counts().to_frame().reset_index()\n",
    "    tree=t.rename(columns={\"Q21\":\"Employees size\",\"Q22\":\"Num of people working in Data Science\",0:\"Count\"})\n",
    "    return tree\n",
    "def useofml(dataWithml):\n",
    "    q23=dataWithml[[\"Q23\"]].value_counts().to_frame().reset_index()\n",
    "    Q23=q23.rename(columns={\"Q23\":\"Use of Machine Learning\",0:\"Count\"})\n",
    "    return Q23"
   ]
  },
  {
   "cell_type": "code",
   "execution_count": 23,
   "id": "cd769b97",
   "metadata": {},
   "outputs": [],
   "source": [
    "Q20=q20(dataWithml)\n",
    "tree=tree(dataWithml)\n",
    "Q23=useofml(dataWithml)"
   ]
  },
  {
   "cell_type": "markdown",
   "id": "232357da",
   "metadata": {},
   "source": [
    "# graph"
   ]
  },
  {
   "cell_type": "code",
   "execution_count": 24,
   "id": "074b1102",
   "metadata": {},
   "outputs": [],
   "source": [
    "def g20(Q20):\n",
    "    q20bar=px.bar(Q20,y=\"Employer\",x=\"Count\",orientation='h',color=\"Employer\",title=\" Different Industries\")\n",
    "    return q20bar\n",
    "\n",
    "def treegraph(tree):\n",
    "    fig = px.treemap(tree, path=[ \"Employees size\", \"Num of people working in Data Science\"], \n",
    "                 values=\"Count\", title=\"Number of people working in Data Science under different employee size in company\")\n",
    "    return fig\n",
    "\n",
    "def mlgraph(Q23):\n",
    "    q23pie=px.pie(Q23,names=\"Use of Machine Learning\",values=\"Count\",title=\"Use of Machine Learning in Companies\")\n",
    "    return q23pie "
   ]
  },
  {
   "cell_type": "markdown",
   "id": "2f27bc1a",
   "metadata": {},
   "source": [
    "#  current tools used to analyse data(Q41)"
   ]
  },
  {
   "cell_type": "code",
   "execution_count": 25,
   "id": "58018fc0",
   "metadata": {},
   "outputs": [],
   "source": [
    "def tool(dataWithml):\n",
    "    q41=dataWithml[[\"Q41\"]].value_counts().to_frame().reset_index()\n",
    "    Q41=q41.rename(columns={\"Q41\":\"Tool used to Analyse data\",0:\"Count\"})\n",
    "    return Q41"
   ]
  },
  {
   "cell_type": "code",
   "execution_count": 26,
   "id": "5f4c8b46",
   "metadata": {},
   "outputs": [],
   "source": [
    "Q41=tool(dataWithml)"
   ]
  },
  {
   "cell_type": "code",
   "execution_count": 27,
   "id": "cb374638",
   "metadata": {},
   "outputs": [],
   "source": [
    "def toolg(Q41):\n",
    "    q41pie=px.pie(Q41,names=\"Tool used to Analyse data\",values=\"Count\",title=\"Tools used to Analyze data at work or schools\")\n",
    "    return q41pie"
   ]
  },
  {
   "cell_type": "markdown",
   "id": "16ee2b6e",
   "metadata": {},
   "source": [
    "#  5 Cloud computing(Q27A,Q27B)"
   ]
  },
  {
   "cell_type": "code",
   "execution_count": 28,
   "id": "f8387f4b",
   "metadata": {},
   "outputs": [],
   "source": [
    "q27=dataWithml[[\"Q27_B_Part_1\",\"Q27_B_Part_2\",\"Q27_B_Part_3\",\"Q27_B_Part_4\",\"Q27_B_Part_5\",\"Q27_B_Part_6\",\"Q27_B_Part_7\",\"Q27_B_Part_8\",\"Q27_B_Part_9\",\"Q27_B_Part_10\",\"Q27_B_Part_11\",\"Q27_B_OTHER\"]]"
   ]
  },
  {
   "cell_type": "code",
   "execution_count": 29,
   "id": "3512ad83",
   "metadata": {},
   "outputs": [
    {
     "data": {
      "text/plain": [
       "Q27_B_OTHER\n",
       "Other          148\n",
       "dtype: int64"
      ]
     },
     "execution_count": 29,
     "metadata": {},
     "output_type": "execute_result"
    }
   ],
   "source": [
    "Q27=dataWithml[[\"Q27_B_OTHER\"]].value_counts()\n",
    "Q27"
   ]
  },
  {
   "cell_type": "code",
   "execution_count": 30,
   "id": "e507df4d",
   "metadata": {},
   "outputs": [],
   "source": [
    "cl=pd.DataFrame({\"Cloud Computing Platform\":[\"Amazon Web Services (AWS)\",\"Microsoft Azure\",\"Google Cloud Platform (GCP)\",\"IBM Cloud / Red Hat\",\"Oracle Cloud\",\"SAP Cloud\",\"Salesforce Cloud\",\"VMware Cloud\",\"Alibaba Cloud\",\"Tencent Cloud\",\"None\",\"Other\"],\"Counts\":[5716,4190,5646,1931,1144,561,550,488,433,391,1472,148]})\n",
    "c=cl.sort_values(\"Counts\")\n"
   ]
  },
  {
   "cell_type": "code",
   "execution_count": null,
   "id": "652210b4",
   "metadata": {},
   "outputs": [],
   "source": []
  },
  {
   "cell_type": "markdown",
   "id": "a2bd40ed",
   "metadata": {},
   "source": [
    "## defining function"
   ]
  },
  {
   "cell_type": "code",
   "execution_count": 31,
   "id": "5a7129c5",
   "metadata": {},
   "outputs": [],
   "source": [
    "def cloud_p(dataWithml):\n",
    "    cloud_data=pd.DataFrame({\"Cloud Computing Platform\":[\"Amazon Web Services (AWS)\",\"Microsoft Azure\",\"Google Cloud Platform (GCP)\",\"IBM Cloud / Red Hat\",\"Oracle Cloud\"],\"Counts\":[3415,2203,2885,521,388]})\n",
    "    return cloud_data\n",
    "\n",
    "def cloud(dataWithml):\n",
    "    cloud=pd.DataFrame({\"Cloud Computing Platform\":[\"Amazon Web Services (AWS)\",\"Google Cloud Platform (GCP)\",\"Microsoft Azure\",\"IBM Cloud / Red Hat\",\"Oracle Cloud\"],\"Counts\":[5716,5646,4190,1931,1144]})\n",
    "    \n",
    "    return cloud"
   ]
  },
  {
   "cell_type": "code",
   "execution_count": 32,
   "id": "b7fa278c",
   "metadata": {},
   "outputs": [],
   "source": [
    "cloud_data=cloud_p(dataWithml)\n",
    "cloud=cloud(dataWithml)\n"
   ]
  },
  {
   "cell_type": "markdown",
   "id": "62d3dc4a",
   "metadata": {},
   "source": [
    "# graph"
   ]
  },
  {
   "cell_type": "code",
   "execution_count": 33,
   "id": "7acca064",
   "metadata": {},
   "outputs": [],
   "source": [
    "def cloud_graph(cloud_data):\n",
    "    cc_fig= px.bar(cloud_data, x='Cloud Computing Platform',color=\"Cloud Computing Platform\" ,y='Counts',title='Top Five Cloud Computing Platform')\n",
    "\n",
    "    return cc_fig\n",
    "\n",
    "def q27b(cloud):\n",
    "    Q27b=px.bar(cloud,x=\"Cloud Computing Platform\",y=\"Counts\",color=\"Cloud Computing Platform\", title=\"Cloud Computing Platform in Next 2 years\")\n",
    "    return Q27b"
   ]
  },
  {
   "cell_type": "markdown",
   "id": "c7024d10",
   "metadata": {},
   "source": [
    "#  6 Big Data"
   ]
  },
  {
   "cell_type": "code",
   "execution_count": 34,
   "id": "bbc8b147",
   "metadata": {},
   "outputs": [],
   "source": [
    "def big_data_current(dataWithml):\n",
    "    big=pd.DataFrame({\"Big Data Product\":[\"MySQL\",\"PostgreSQL\",\"PostgreSQL\",\"Oracle Database\",\"MongoDB\",\"Snowflake\",\"IBM Db2\",\"Microsoft SQL Server\",\"Microsoft Azure SQL Database\",\"Microsoft Azure Cosmos DB\",\"Amazon Redshift\",\"Amazon Aurora\",\"Amazon RDS\",\"Amazon DynamoDB\",\"Google Cloud BigQuery\",\"Google Cloud SQL\",\"Google Cloud Firestore\",\"Google Cloud BigTable\",\"Google Cloud Spanner\"],\"Counts\":[3160,2059,1504,963,1532,458,323,1672,714,343,555,265,557,441,808,535,339,329,187]})\n",
    "    big_data=big.sort_values(\"Counts\").tail(11).reset_index()\n",
    "    big_data.drop(columns={\"index\"},axis=1,inplace=True)\n",
    "    return big_data\n",
    "\n",
    "def big_data_future(dataWithml):\n",
    "    bi=pd.DataFrame({\"Big Data Product\":[\"MySQL\",\"PostgreSQL\",\"PostgreSQL\",\"Oracle Database\",\"MongoDB\",\"Snowflake\",\"IBM Db2\",\"Microsoft SQL Server\",\"Microsoft Azure SQL Database\",\"Microsoft Azure Cosmos DB\",\"Amazon Redshift\",\"Amazon Aurora\",\"Amazon RDS\",\"Amazon DynamoDB\",\"Google Cloud BigQuery\",\"Google Cloud SQL\",\"Google Cloud Firestore\",\"Google Cloud BigTable\",\"Google Cloud Spanner\"],\"Counts\":[4519,2550,2329,1657,3415,812,863,2181,1921,1096,882,846,1137,1639,2075,2378,1201,1471,863]})\n",
    "    bi_future_data=bi.sort_values(\"Counts\").tail(11).reset_index()\n",
    "    bi_future_data.drop(columns={\"index\"},axis=1,inplace=True)\n",
    "    return bi_future_data"
   ]
  },
  {
   "cell_type": "code",
   "execution_count": 35,
   "id": "0b655a58",
   "metadata": {},
   "outputs": [],
   "source": [
    "big_data=big_data_current(dataWithml)\n",
    "bi_future_data=big_data_future(dataWithml)"
   ]
  },
  {
   "cell_type": "code",
   "execution_count": 36,
   "id": "fc074816",
   "metadata": {},
   "outputs": [],
   "source": [
    "def big_data_current_graph(big_data):\n",
    "    \n",
    "    b_fig= px.bar(big_data, x='Counts', y='Big Data Product', color='Big Data Product', orientation=\"h\",title=\"Top Ten Big Data Products Used currently\")\n",
    "    return b_fig\n",
    "\n",
    "def big_data_future_graph(bi_future_data):\n",
    "    f_fig= px.bar(bi_future_data, x='Counts', y='Big Data Product', color='Big Data Product', orientation=\"h\",title='Top 10 Big Data Products in Next 2 years')\n",
    "    return f_fig"
   ]
  },
  {
   "cell_type": "code",
   "execution_count": 37,
   "id": "3baf0383",
   "metadata": {},
   "outputs": [],
   "source": [
    "b_fig=big_data_current_graph(big_data)\n",
    "f_fig=big_data_future_graph(bi_future_data)"
   ]
  },
  {
   "cell_type": "markdown",
   "id": "54d60f64",
   "metadata": {},
   "source": [
    "# HTML layout"
   ]
  },
  {
   "cell_type": "code",
   "execution_count": 38,
   "id": "a2c601b8",
   "metadata": {},
   "outputs": [],
   "source": [
    "app = JupyterDash(__name__,external_stylesheets=[dbc.themes.CYBORG])"
   ]
  },
  {
   "cell_type": "code",
   "execution_count": 39,
   "id": "e042298c",
   "metadata": {},
   "outputs": [],
   "source": [
    "app.layout=html.Div([\n",
    "    html.Div(\n",
    "    html.H1 ('Technology Suvery of year 2021',style={\"text-align\":\"center\"})\n",
    "            ),\n",
    "    html.Br(),\n",
    "    dbc.Card(\n",
    "    [\n",
    "        dbc.CardBody(\n",
    "            [\n",
    "                html.H2(\"Data set\", className=\"card-title\"),\n",
    "                html.P(\n",
    "                    \"Total columns: 369\"),\n",
    "                html.P(\"Total rows: 25973\")\n",
    "            ]\n",
    "        ),\n",
    "    ],\n",
    "    style={\"width\": \"18rem\"},\n",
    "),\n",
    "    html.Br(),\n",
    "    html.Br(),\n",
    "    html.Div([\n",
    "        dbc.Button(\"Languages\",id=\"but1\", color=\"primary\",size=\"lg\", className=\"me-5\"),\n",
    "        dbc.Button(\"Visualization\",id='viv',color=\"secondary\",size=\"lg\", className=\"me-5\"),\n",
    "        dbc.Button(\"Machine Learning\",id=\"but2\", color=\"success\",size=\"lg\", className=\"me-5\"),\n",
    "        dbc.Button(\"Industry/Employer\",id=\"but3\", color=\"warning\", size=\"lg\",className=\"me-5\"),\n",
    "        dbc.Button(\"Cloud Computing\",id=\"but4\", color=\"danger\", size=\"lg\",className=\"me-5\"),\n",
    "        dbc.Button(\"Big Data\",id=\"but5\", color=\"info\", size=\"lg\",className=\"me-5\"),\n",
    "    ]),\n",
    "    html.Br(),\n",
    "    html.Div([\n",
    "        dbc.Collapse([\n",
    "        dcc.Dropdown(id='input-id1', options=[\n",
    "                                        {'label': 'Top 5 Languages', 'value': 'l'},\n",
    "                                        {'label': 'Top 5 Platform', 'value': 'p'},\n",
    "                                         {'label': 'Top 5 Languages to Learn first', 'value': 'lf'}\n",
    "                        ],placeholder=\"Select one\", style={'width': '60%'}),\n",
    "            html.Br(),\n",
    "            dcc.Graph('plot1'),],style={'width': '100%'},\n",
    "            id=\"col1\", is_open=False\n",
    "        ),\n",
    "        dbc.Collapse([\n",
    "         dcc.Dropdown(id='input-id2', options=[\n",
    "                                        \n",
    "                                        {'label': 'Years used', 'value': 'year'},\n",
    "                                        {'label': 'Types of ML', 'value': 'ml'}\n",
    "                                       ], placeholder=\"Select one\",style={'width': '60%'}),\n",
    "             html.Br(),\n",
    "            dcc.Graph('plot2'),],style={'width': '100%'},\n",
    "            id=\"col2\", is_open=False\n",
    "        ),\n",
    "        dbc.Collapse([\n",
    "        dcc.Dropdown(id='input-id3', options=[\n",
    "                                        \n",
    "                                        {'label': 'Different Industry', 'value': 'd'},\n",
    "                                         {'label': 'Working as Data Science & employee size', 'value': 'size'},\n",
    "                                         {'label': 'Use of ML at work', 'value': 'use'}\n",
    "                                       \n",
    "                                        ], placeholder=\"Select one\",style={'width': '60%'}),\n",
    "             html.Br(),\n",
    "            dcc.Graph('plot3'),],style={'width': '100%'},\n",
    "            id=\"col3\", is_open=False \n",
    "        ),\n",
    "        \n",
    "        dbc.Collapse([\n",
    "        dcc.Dropdown(id='input-id4', options=[\n",
    "                                        \n",
    "                                        {'label': 'Current platform', 'value': 'current'},\n",
    "                                        {'label': 'Future platform ', 'value': 'future'}\n",
    "                        \n",
    "                                        ], placeholder=\"Select one\",style={'width': '60%'}),\n",
    "             html.Br(),\n",
    "            dcc.Graph('plot4'),],style={'width': '100%'},\n",
    "         id=\"col4\", is_open=False \n",
    "        ),\n",
    "        \n",
    "        dbc.Collapse([\n",
    "         dcc.Dropdown(id='input-id5', options=[\n",
    "                                        \n",
    "                                        {'label': 'Current Products', 'value': 'ct'},\n",
    "                                        {'label': ' Future products', 'value': 'ft'}\n",
    "                                       \n",
    "                                        ], placeholder=\"Select one\",style={'width': '60%'}),\n",
    "             html.Br(),\n",
    "            dcc.Graph('plot5'),],style={'width': '100%'},\n",
    "            id=\"col5\", is_open=False \n",
    "        ),\n",
    "        dbc.Collapse(\n",
    "        dcc.Graph('plot'),style={'width': '100%'},\n",
    "            id='col', is_open=False),\n",
    "        \n",
    "    ],style={'display':'flex'}),\n",
    "    \n",
    "])"
   ]
  },
  {
   "cell_type": "code",
   "execution_count": 40,
   "id": "44d42bf8",
   "metadata": {},
   "outputs": [],
   "source": [
    "@app.callback(\n",
    "            Output(\"col1\", \"is_open\"),\n",
    "\n",
    "            Input(\"but1\", \"n_clicks\"),\n",
    "            State(\"col1\", \"is_open\")\n",
    ")\n",
    "def col(b, is_open):\n",
    "    if b:\n",
    "        return not is_open\n",
    "    else:\n",
    "        return is_open\n",
    "    \n",
    "@app.callback([\n",
    "            Output(\"col\", \"is_open\"),\n",
    "            Output('plot','figure')],\n",
    "\n",
    "            Input(\"viv\", \"n_clicks\"),\n",
    "            State(\"col\", \"is_open\")\n",
    ")\n",
    "def col(b, is_open):\n",
    "    if b:\n",
    "        fig=visual_gra(vlib)\n",
    "        return not is_open,fig\n",
    "    else:\n",
    "        fig=visual_gra(vlib)\n",
    "        return is_open,fig\n",
    "\n",
    "@app.callback(\n",
    "            Output(\"col2\", \"is_open\"),\n",
    "            Input(\"but2\", \"n_clicks\"),\n",
    "            State(\"col2\", \"is_open\")\n",
    ")\n",
    "def col(bt, is_open):\n",
    "    if bt:\n",
    "        return not is_open\n",
    "    else:\n",
    "        return is_open\n",
    "@app.callback(\n",
    "            Output(\"col3\", \"is_open\"),\n",
    "            Input(\"but3\", \"n_clicks\"),\n",
    "            State(\"col3\", \"is_open\")\n",
    ")\n",
    "def col(btt, is_open):\n",
    "    if btt:\n",
    "        return not is_open\n",
    "    else:\n",
    "        return is_open\n",
    "@app.callback(\n",
    "            Output(\"col4\", \"is_open\"),\n",
    "            Input(\"but4\", \"n_clicks\"),\n",
    "            State(\"col4\", \"is_open\")\n",
    ")\n",
    "def col(bbt, is_open):\n",
    "    if bbt:\n",
    "        return not is_open\n",
    "    else:\n",
    "        return is_open\n",
    "    \n",
    "@app.callback(\n",
    "            Output(\"col5\", \"is_open\"),\n",
    "            Input(\"but5\", \"n_clicks\"),\n",
    "            State(\"col5\", \"is_open\")\n",
    ")\n",
    "def col(t, is_open):\n",
    "    if t:\n",
    "        return not is_open\n",
    "    else:\n",
    "        return is_open\n",
    "@app.callback(\n",
    "            Output(\"plot1\", \"figure\"),\n",
    "            Input(\"input-id1\", \"value\"),\n",
    ")         \n",
    "def fig1(val):\n",
    "    if val=='l':\n",
    "        fig=g1(l)\n",
    "        \n",
    "    elif val==\"p\":\n",
    "        fig=pg1(ide_data)\n",
    "       \n",
    "    else:\n",
    "        fig = graph8(q8)\n",
    "    return fig\n",
    "\n",
    "\n",
    "\n",
    "@app.callback(\n",
    "            Output(\"plot2\", \"figure\"),\n",
    "            Input(\"input-id2\", \"value\"),\n",
    ")         \n",
    "def fig2(val):\n",
    "    if val=='year':\n",
    "        fig=g15(Q15)\n",
    "    else:\n",
    "        fig=machine_gra(ml_data)\n",
    "    return fig\n",
    "\n",
    "@app.callback(\n",
    "            Output(\"plot3\", \"figure\"),\n",
    "            Input(\"input-id3\", \"value\"),\n",
    ")         \n",
    "def fig3(val):\n",
    "    if val=='d':\n",
    "        fig=g20(Q20)\n",
    "        \n",
    "    elif val==\"size\":\n",
    "        fig=treegraph(tree)\n",
    "       \n",
    "    else:\n",
    "        fig = mlgraph(Q23)\n",
    "    return fig\n",
    "\n",
    "@app.callback(\n",
    "            Output(\"plot4\", \"figure\"),\n",
    "            Input(\"input-id4\", \"value\"),\n",
    ")         \n",
    "def fig4(val):\n",
    "    if val=='current':\n",
    "        fig=cloud_graph(cloud_data)\n",
    "    else:\n",
    "        fig=q27b(cloud)\n",
    "    return fig\n",
    "@app.callback(\n",
    "            Output(\"plot5\", \"figure\"),\n",
    "            Input(\"input-id5\", \"value\"),\n",
    ")         \n",
    "def fig5(val):\n",
    "    if val=='ct':\n",
    "        fig=big_data_current_graph(big_data)\n",
    "    else:\n",
    "        fig=big_data_future_graph(bi_future_data)\n",
    "    return fig"
   ]
  },
  {
   "cell_type": "code",
   "execution_count": 41,
   "id": "14ca8361",
   "metadata": {},
   "outputs": [
    {
     "name": "stdout",
     "output_type": "stream",
     "text": [
      "Dash app running on http://127.0.0.1:8050/\n"
     ]
    }
   ],
   "source": [
    "if __name__ == '__main__':\n",
    "    app.run_server()"
   ]
  },
  {
   "cell_type": "code",
   "execution_count": null,
   "id": "69aaa9c3",
   "metadata": {},
   "outputs": [],
   "source": [
    " "
   ]
  },
  {
   "cell_type": "code",
   "execution_count": null,
   "id": "2db6175b",
   "metadata": {},
   "outputs": [],
   "source": []
  },
  {
   "cell_type": "code",
   "execution_count": null,
   "id": "52382189",
   "metadata": {},
   "outputs": [],
   "source": []
  },
  {
   "cell_type": "code",
   "execution_count": null,
   "id": "ac29e4f7",
   "metadata": {},
   "outputs": [],
   "source": []
  },
  {
   "cell_type": "code",
   "execution_count": null,
   "id": "6dced93a",
   "metadata": {},
   "outputs": [],
   "source": []
  }
 ],
 "metadata": {
  "kernelspec": {
   "display_name": "Python 3 (ipykernel)",
   "language": "python",
   "name": "python3"
  },
  "language_info": {
   "codemirror_mode": {
    "name": "ipython",
    "version": 3
   },
   "file_extension": ".py",
   "mimetype": "text/x-python",
   "name": "python",
   "nbconvert_exporter": "python",
   "pygments_lexer": "ipython3",
   "version": "3.9.7"
  }
 },
 "nbformat": 4,
 "nbformat_minor": 5
}
